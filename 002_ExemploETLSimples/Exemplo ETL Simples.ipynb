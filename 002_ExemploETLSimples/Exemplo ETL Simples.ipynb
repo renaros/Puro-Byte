{
 "cells": [
  {
   "cell_type": "markdown",
   "metadata": {},
   "source": [
    "# Exemplo de ETL Simples\n",
    "\n",
    "## Setup inicial"
   ]
  },
  {
   "cell_type": "markdown",
   "metadata": {},
   "source": [
    "A idéia deste exercício é mostrar na prática como funciona um ETL simples para gerar um relatório em formato CSV de quantidade de emprestimos de veículos por região.\n",
    "Os dados de fonte são dois arquivos: Um arquivo CSV com informações de empréstimos de filmes e clientes e outro arquivo CSV com informações sobre cidades."
   ]
  },
  {
   "cell_type": "markdown",
   "metadata": {},
   "source": [
    "Instalando a biblioteca Pandas"
   ]
  },
  {
   "cell_type": "code",
   "execution_count": null,
   "metadata": {},
   "outputs": [],
   "source": [
    "!pip install pandas"
   ]
  },
  {
   "cell_type": "markdown",
   "metadata": {},
   "source": [
    "Importando bibliotecas de manipulação de dados "
   ]
  },
  {
   "cell_type": "code",
   "execution_count": 2,
   "metadata": {},
   "outputs": [],
   "source": [
    "import pandas as pd"
   ]
  },
  {
   "cell_type": "markdown",
   "metadata": {},
   "source": [
    "## Baixando os dados dos arquivos (Extract)"
   ]
  },
  {
   "cell_type": "markdown",
   "metadata": {},
   "source": [
    "Para este caso como vamos lidar apenas com arquivos CSV não precisamos de mais nenhuma biblioteca além do pandas.\n",
    "\n",
    "Carregando as informações dos arquivos (cada um para um dataframe diferente)..."
   ]
  },
  {
   "cell_type": "code",
   "execution_count": 3,
   "metadata": {},
   "outputs": [],
   "source": [
    "dataframe_cidades = pd.read_csv('cidades_etl_example.csv')\n",
    "dataframe_emprestimos = pd.read_csv('emprestimos_etl_example.csv')"
   ]
  },
  {
   "cell_type": "code",
   "execution_count": 4,
   "metadata": {},
   "outputs": [
    {
     "data": {
      "text/html": [
       "<div>\n",
       "<style scoped>\n",
       "    .dataframe tbody tr th:only-of-type {\n",
       "        vertical-align: middle;\n",
       "    }\n",
       "\n",
       "    .dataframe tbody tr th {\n",
       "        vertical-align: top;\n",
       "    }\n",
       "\n",
       "    .dataframe thead th {\n",
       "        text-align: right;\n",
       "    }\n",
       "</style>\n",
       "<table border=\"1\" class=\"dataframe\">\n",
       "  <thead>\n",
       "    <tr style=\"text-align: right;\">\n",
       "      <th></th>\n",
       "      <th>city_id</th>\n",
       "      <th>city</th>\n",
       "      <th>country</th>\n",
       "    </tr>\n",
       "  </thead>\n",
       "  <tbody>\n",
       "    <tr>\n",
       "      <th>0</th>\n",
       "      <td>1</td>\n",
       "      <td>A Corua (La Corua)</td>\n",
       "      <td>Spain</td>\n",
       "    </tr>\n",
       "    <tr>\n",
       "      <th>1</th>\n",
       "      <td>2</td>\n",
       "      <td>Abha</td>\n",
       "      <td>Saudi Arabia</td>\n",
       "    </tr>\n",
       "    <tr>\n",
       "      <th>2</th>\n",
       "      <td>3</td>\n",
       "      <td>Abu Dhabi</td>\n",
       "      <td>United Arab Emirates</td>\n",
       "    </tr>\n",
       "    <tr>\n",
       "      <th>3</th>\n",
       "      <td>4</td>\n",
       "      <td>Acua</td>\n",
       "      <td>Mexico</td>\n",
       "    </tr>\n",
       "    <tr>\n",
       "      <th>4</th>\n",
       "      <td>5</td>\n",
       "      <td>Adana</td>\n",
       "      <td>Turkey</td>\n",
       "    </tr>\n",
       "  </tbody>\n",
       "</table>\n",
       "</div>"
      ],
      "text/plain": [
       "   city_id                city               country\n",
       "0        1  A Corua (La Corua)                 Spain\n",
       "1        2                Abha          Saudi Arabia\n",
       "2        3           Abu Dhabi  United Arab Emirates\n",
       "3        4                Acua                Mexico\n",
       "4        5               Adana                Turkey"
      ]
     },
     "execution_count": 4,
     "metadata": {},
     "output_type": "execute_result"
    }
   ],
   "source": [
    "#listando o top 5 para ver como é a tabela de regiões\n",
    "dataframe_cidades.head(5)"
   ]
  },
  {
   "cell_type": "code",
   "execution_count": 5,
   "metadata": {},
   "outputs": [
    {
     "data": {
      "text/html": [
       "<div>\n",
       "<style scoped>\n",
       "    .dataframe tbody tr th:only-of-type {\n",
       "        vertical-align: middle;\n",
       "    }\n",
       "\n",
       "    .dataframe tbody tr th {\n",
       "        vertical-align: top;\n",
       "    }\n",
       "\n",
       "    .dataframe thead th {\n",
       "        text-align: right;\n",
       "    }\n",
       "</style>\n",
       "<table border=\"1\" class=\"dataframe\">\n",
       "  <thead>\n",
       "    <tr style=\"text-align: right;\">\n",
       "      <th></th>\n",
       "      <th>rental_id</th>\n",
       "      <th>cust_name</th>\n",
       "      <th>city_id</th>\n",
       "      <th>rental_date</th>\n",
       "      <th>return_date</th>\n",
       "    </tr>\n",
       "  </thead>\n",
       "  <tbody>\n",
       "    <tr>\n",
       "      <th>0</th>\n",
       "      <td>2</td>\n",
       "      <td>Tommy Collazo</td>\n",
       "      <td>423</td>\n",
       "      <td>2005-05-24 22:54:33</td>\n",
       "      <td>2005-05-28 19:40:33</td>\n",
       "    </tr>\n",
       "    <tr>\n",
       "      <th>1</th>\n",
       "      <td>3</td>\n",
       "      <td>Manuel Murrell</td>\n",
       "      <td>230</td>\n",
       "      <td>2005-05-24 23:03:39</td>\n",
       "      <td>2005-06-01 22:12:39</td>\n",
       "    </tr>\n",
       "    <tr>\n",
       "      <th>2</th>\n",
       "      <td>4</td>\n",
       "      <td>Andrew Purdy</td>\n",
       "      <td>48</td>\n",
       "      <td>2005-05-24 23:04:41</td>\n",
       "      <td>2005-06-03 01:43:41</td>\n",
       "    </tr>\n",
       "    <tr>\n",
       "      <th>3</th>\n",
       "      <td>5</td>\n",
       "      <td>Delores Hansen</td>\n",
       "      <td>235</td>\n",
       "      <td>2005-05-24 23:05:21</td>\n",
       "      <td>2005-06-02 04:33:21</td>\n",
       "    </tr>\n",
       "    <tr>\n",
       "      <th>4</th>\n",
       "      <td>6</td>\n",
       "      <td>Nelson Christenson</td>\n",
       "      <td>459</td>\n",
       "      <td>2005-05-24 23:08:07</td>\n",
       "      <td>2005-05-27 01:32:07</td>\n",
       "    </tr>\n",
       "  </tbody>\n",
       "</table>\n",
       "</div>"
      ],
      "text/plain": [
       "   rental_id           cust_name  city_id          rental_date  \\\n",
       "0          2       Tommy Collazo      423  2005-05-24 22:54:33   \n",
       "1          3      Manuel Murrell      230  2005-05-24 23:03:39   \n",
       "2          4        Andrew Purdy       48  2005-05-24 23:04:41   \n",
       "3          5      Delores Hansen      235  2005-05-24 23:05:21   \n",
       "4          6  Nelson Christenson      459  2005-05-24 23:08:07   \n",
       "\n",
       "           return_date  \n",
       "0  2005-05-28 19:40:33  \n",
       "1  2005-06-01 22:12:39  \n",
       "2  2005-06-03 01:43:41  \n",
       "3  2005-06-02 04:33:21  \n",
       "4  2005-05-27 01:32:07  "
      ]
     },
     "execution_count": 5,
     "metadata": {},
     "output_type": "execute_result"
    }
   ],
   "source": [
    "#listando o top 5 para ver como é a tabela de pedidos\n",
    "dataframe_emprestimos.head(5)"
   ]
  },
  {
   "cell_type": "markdown",
   "metadata": {},
   "source": [
    "## Transformando os dados (Transform)\n",
    "Neste passo estamos consolidando as duas informações utilizando a coluna city_id como chave"
   ]
  },
  {
   "cell_type": "code",
   "execution_count": 6,
   "metadata": {},
   "outputs": [],
   "source": [
    "dataframe_join = dataframe_emprestimos.join(\n",
    "    dataframe_cidades, \n",
    "    on='city_id',    #chave da junção entre as tabelas\n",
    "    how='inner',     #tipo da junção, neste caso inner\n",
    "    rsuffix='_geo',  #alias para campos com mesmo nome do lado direito (regioes)\n",
    "    lsuffix='_rent'  #alias para campos com mesmo nome do lado esquerdo (pedidos)\n",
    ")"
   ]
  },
  {
   "cell_type": "code",
   "execution_count": 7,
   "metadata": {},
   "outputs": [
    {
     "data": {
      "text/html": [
       "<div>\n",
       "<style scoped>\n",
       "    .dataframe tbody tr th:only-of-type {\n",
       "        vertical-align: middle;\n",
       "    }\n",
       "\n",
       "    .dataframe tbody tr th {\n",
       "        vertical-align: top;\n",
       "    }\n",
       "\n",
       "    .dataframe thead th {\n",
       "        text-align: right;\n",
       "    }\n",
       "</style>\n",
       "<table border=\"1\" class=\"dataframe\">\n",
       "  <thead>\n",
       "    <tr style=\"text-align: right;\">\n",
       "      <th></th>\n",
       "      <th>city_id</th>\n",
       "      <th>rental_id</th>\n",
       "      <th>cust_name</th>\n",
       "      <th>city_id_rent</th>\n",
       "      <th>rental_date</th>\n",
       "      <th>return_date</th>\n",
       "      <th>city_id_geo</th>\n",
       "      <th>city</th>\n",
       "      <th>country</th>\n",
       "    </tr>\n",
       "  </thead>\n",
       "  <tbody>\n",
       "    <tr>\n",
       "      <th>0</th>\n",
       "      <td>423</td>\n",
       "      <td>2</td>\n",
       "      <td>Tommy Collazo</td>\n",
       "      <td>423</td>\n",
       "      <td>2005-05-24 22:54:33</td>\n",
       "      <td>2005-05-28 19:40:33</td>\n",
       "      <td>424</td>\n",
       "      <td>Quilmes</td>\n",
       "      <td>Argentina</td>\n",
       "    </tr>\n",
       "    <tr>\n",
       "      <th>1873</th>\n",
       "      <td>423</td>\n",
       "      <td>1876</td>\n",
       "      <td>Tommy Collazo</td>\n",
       "      <td>423</td>\n",
       "      <td>2005-06-17 02:50:51</td>\n",
       "      <td>2005-06-18 07:21:51</td>\n",
       "      <td>424</td>\n",
       "      <td>Quilmes</td>\n",
       "      <td>Argentina</td>\n",
       "    </tr>\n",
       "    <tr>\n",
       "      <th>1974</th>\n",
       "      <td>423</td>\n",
       "      <td>1977</td>\n",
       "      <td>Tommy Collazo</td>\n",
       "      <td>423</td>\n",
       "      <td>2005-06-17 09:38:22</td>\n",
       "      <td>2005-06-23 14:19:22</td>\n",
       "      <td>424</td>\n",
       "      <td>Quilmes</td>\n",
       "      <td>Argentina</td>\n",
       "    </tr>\n",
       "    <tr>\n",
       "      <th>2072</th>\n",
       "      <td>423</td>\n",
       "      <td>2075</td>\n",
       "      <td>Tommy Collazo</td>\n",
       "      <td>423</td>\n",
       "      <td>2005-06-17 16:40:33</td>\n",
       "      <td>2005-06-19 13:55:33</td>\n",
       "      <td>424</td>\n",
       "      <td>Quilmes</td>\n",
       "      <td>Argentina</td>\n",
       "    </tr>\n",
       "    <tr>\n",
       "      <th>2895</th>\n",
       "      <td>423</td>\n",
       "      <td>2899</td>\n",
       "      <td>Tommy Collazo</td>\n",
       "      <td>423</td>\n",
       "      <td>2005-06-20 02:39:21</td>\n",
       "      <td>2005-06-23 06:47:21</td>\n",
       "      <td>424</td>\n",
       "      <td>Quilmes</td>\n",
       "      <td>Argentina</td>\n",
       "    </tr>\n",
       "  </tbody>\n",
       "</table>\n",
       "</div>"
      ],
      "text/plain": [
       "      city_id  rental_id      cust_name  city_id_rent          rental_date  \\\n",
       "0         423          2  Tommy Collazo           423  2005-05-24 22:54:33   \n",
       "1873      423       1876  Tommy Collazo           423  2005-06-17 02:50:51   \n",
       "1974      423       1977  Tommy Collazo           423  2005-06-17 09:38:22   \n",
       "2072      423       2075  Tommy Collazo           423  2005-06-17 16:40:33   \n",
       "2895      423       2899  Tommy Collazo           423  2005-06-20 02:39:21   \n",
       "\n",
       "              return_date  city_id_geo     city    country  \n",
       "0     2005-05-28 19:40:33          424  Quilmes  Argentina  \n",
       "1873  2005-06-18 07:21:51          424  Quilmes  Argentina  \n",
       "1974  2005-06-23 14:19:22          424  Quilmes  Argentina  \n",
       "2072  2005-06-19 13:55:33          424  Quilmes  Argentina  \n",
       "2895  2005-06-23 06:47:21          424  Quilmes  Argentina  "
      ]
     },
     "execution_count": 7,
     "metadata": {},
     "output_type": "execute_result"
    }
   ],
   "source": [
    "#listando o top 5 para ver como ficou a tabela depois da junção\n",
    "dataframe_join.head(5)"
   ]
  },
  {
   "cell_type": "markdown",
   "metadata": {},
   "source": [
    "E agora estamos contando a quantidade de alugueis de filmes agrupado por país e cidade"
   ]
  },
  {
   "cell_type": "code",
   "execution_count": 8,
   "metadata": {},
   "outputs": [],
   "source": [
    "#groupby vai agrupar o dataframe por país e cidade e count() vai contar todas as colunas, por \n",
    "#isso temos que adicionar ['rental_id'] para contar somente nessa coluna.\n",
    "count_by_city = dataframe_join.groupby(['country', 'city'])['rental_id'].count()"
   ]
  },
  {
   "cell_type": "code",
   "execution_count": 9,
   "metadata": {},
   "outputs": [
    {
     "data": {
      "text/plain": [
       "country         city  \n",
       "Afghanistan     Kabul     25\n",
       "Algeria         Batna     33\n",
       "                Bchar     25\n",
       "                Skikda    26\n",
       "American Samoa  Tafuna    26\n",
       "Name: rental_id, dtype: int64"
      ]
     },
     "execution_count": 9,
     "metadata": {},
     "output_type": "execute_result"
    }
   ],
   "source": [
    "#listando o top 5 para ver como é a tabela final\n",
    "count_by_city.head(5)"
   ]
  },
  {
   "cell_type": "markdown",
   "metadata": {},
   "source": [
    "## Carregando os dados no destino (Load)\n",
    "Neste caso será um csv também na mesma pasta somente para fins didáticos, mas pode ser um banco de dados, um arquivo JSON ou qualquer outro formato."
   ]
  },
  {
   "cell_type": "code",
   "execution_count": 10,
   "metadata": {},
   "outputs": [],
   "source": [
    "count_by_city.to_csv('./count_by_city_export.csv')"
   ]
  }
 ],
 "metadata": {
  "kernelspec": {
   "display_name": "Python 3",
   "language": "python",
   "name": "python3"
  },
  "language_info": {
   "codemirror_mode": {
    "name": "ipython",
    "version": 3
   },
   "file_extension": ".py",
   "mimetype": "text/x-python",
   "name": "python",
   "nbconvert_exporter": "python",
   "pygments_lexer": "ipython3",
   "version": "3.8.5"
  }
 },
 "nbformat": 4,
 "nbformat_minor": 4
}
